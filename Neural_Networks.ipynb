{
  "nbformat": 4,
  "nbformat_minor": 0,
  "metadata": {
    "colab": {
      "name": "Neural Networks.ipynb",
      "provenance": [],
      "collapsed_sections": [],
      "mount_file_id": "1BoWACaV41iCj9lJ73_c0PQn--ihRFOjV",
      "authorship_tag": "ABX9TyOTVy1fEIiYAlm2pWXgk66b",
      "include_colab_link": true
    },
    "kernelspec": {
      "name": "python3",
      "display_name": "Python 3"
    },
    "language_info": {
      "name": "python"
    }
  },
  "cells": [
    {
      "cell_type": "markdown",
      "metadata": {
        "id": "view-in-github",
        "colab_type": "text"
      },
      "source": [
        "<a href=\"https://colab.research.google.com/github/Sai-Prathik/Neural-Networks/blob/main/Neural_Networks.ipynb\" target=\"_parent\"><img src=\"https://colab.research.google.com/assets/colab-badge.svg\" alt=\"Open In Colab\"/></a>"
      ]
    },
    {
      "cell_type": "code",
      "metadata": {
        "id": "Pdp83IlbU7dw"
      },
      "source": [
        "import pandas as pd\n",
        "import numpy as np\n"
      ],
      "execution_count": 16,
      "outputs": []
    },
    {
      "cell_type": "code",
      "metadata": {
        "colab": {
          "base_uri": "https://localhost:8080/",
          "height": 402
        },
        "id": "g9h0YGooNo5Y",
        "outputId": "b5363eef-1415-4786-aaab-691cd42dbe4b"
      },
      "source": [
        "dataset=pd.read_csv(\"/content/drive/MyDrive/Neural Networks/weatherHistory.csv\")\n",
        "dataset.drop()"
      ],
      "execution_count": 3,
      "outputs": [
        {
          "output_type": "execute_result",
          "data": {
            "text/html": [
              "<div>\n",
              "<style scoped>\n",
              "    .dataframe tbody tr th:only-of-type {\n",
              "        vertical-align: middle;\n",
              "    }\n",
              "\n",
              "    .dataframe tbody tr th {\n",
              "        vertical-align: top;\n",
              "    }\n",
              "\n",
              "    .dataframe thead th {\n",
              "        text-align: right;\n",
              "    }\n",
              "</style>\n",
              "<table border=\"1\" class=\"dataframe\">\n",
              "  <thead>\n",
              "    <tr style=\"text-align: right;\">\n",
              "      <th></th>\n",
              "      <th>Temperature (C)</th>\n",
              "      <th>Humidity</th>\n",
              "      <th>Wind Speed (km/h)</th>\n",
              "      <th>Wind Bearing (degrees)</th>\n",
              "      <th>Visibility (km)</th>\n",
              "      <th>Pressure (millibars)</th>\n",
              "      <th>Apparent Temperature (C)</th>\n",
              "    </tr>\n",
              "  </thead>\n",
              "  <tbody>\n",
              "    <tr>\n",
              "      <th>0</th>\n",
              "      <td>9.472222</td>\n",
              "      <td>0.89</td>\n",
              "      <td>14.1197</td>\n",
              "      <td>251</td>\n",
              "      <td>15.8263</td>\n",
              "      <td>1015.13</td>\n",
              "      <td>7.388889</td>\n",
              "    </tr>\n",
              "    <tr>\n",
              "      <th>1</th>\n",
              "      <td>9.355556</td>\n",
              "      <td>0.86</td>\n",
              "      <td>14.2646</td>\n",
              "      <td>259</td>\n",
              "      <td>15.8263</td>\n",
              "      <td>1015.63</td>\n",
              "      <td>7.227778</td>\n",
              "    </tr>\n",
              "    <tr>\n",
              "      <th>2</th>\n",
              "      <td>9.377778</td>\n",
              "      <td>0.89</td>\n",
              "      <td>3.9284</td>\n",
              "      <td>204</td>\n",
              "      <td>14.9569</td>\n",
              "      <td>1015.94</td>\n",
              "      <td>9.377778</td>\n",
              "    </tr>\n",
              "    <tr>\n",
              "      <th>3</th>\n",
              "      <td>8.288889</td>\n",
              "      <td>0.83</td>\n",
              "      <td>14.1036</td>\n",
              "      <td>269</td>\n",
              "      <td>15.8263</td>\n",
              "      <td>1016.41</td>\n",
              "      <td>5.944444</td>\n",
              "    </tr>\n",
              "    <tr>\n",
              "      <th>4</th>\n",
              "      <td>8.755556</td>\n",
              "      <td>0.83</td>\n",
              "      <td>11.0446</td>\n",
              "      <td>259</td>\n",
              "      <td>15.8263</td>\n",
              "      <td>1016.51</td>\n",
              "      <td>6.977778</td>\n",
              "    </tr>\n",
              "    <tr>\n",
              "      <th>...</th>\n",
              "      <td>...</td>\n",
              "      <td>...</td>\n",
              "      <td>...</td>\n",
              "      <td>...</td>\n",
              "      <td>...</td>\n",
              "      <td>...</td>\n",
              "      <td>...</td>\n",
              "    </tr>\n",
              "    <tr>\n",
              "      <th>96448</th>\n",
              "      <td>26.016667</td>\n",
              "      <td>0.43</td>\n",
              "      <td>10.9963</td>\n",
              "      <td>31</td>\n",
              "      <td>16.1000</td>\n",
              "      <td>1014.36</td>\n",
              "      <td>26.016667</td>\n",
              "    </tr>\n",
              "    <tr>\n",
              "      <th>96449</th>\n",
              "      <td>24.583333</td>\n",
              "      <td>0.48</td>\n",
              "      <td>10.0947</td>\n",
              "      <td>20</td>\n",
              "      <td>15.5526</td>\n",
              "      <td>1015.16</td>\n",
              "      <td>24.583333</td>\n",
              "    </tr>\n",
              "    <tr>\n",
              "      <th>96450</th>\n",
              "      <td>22.038889</td>\n",
              "      <td>0.56</td>\n",
              "      <td>8.9838</td>\n",
              "      <td>30</td>\n",
              "      <td>16.1000</td>\n",
              "      <td>1015.66</td>\n",
              "      <td>22.038889</td>\n",
              "    </tr>\n",
              "    <tr>\n",
              "      <th>96451</th>\n",
              "      <td>21.522222</td>\n",
              "      <td>0.60</td>\n",
              "      <td>10.5294</td>\n",
              "      <td>20</td>\n",
              "      <td>16.1000</td>\n",
              "      <td>1015.95</td>\n",
              "      <td>21.522222</td>\n",
              "    </tr>\n",
              "    <tr>\n",
              "      <th>96452</th>\n",
              "      <td>20.438889</td>\n",
              "      <td>0.61</td>\n",
              "      <td>5.8765</td>\n",
              "      <td>39</td>\n",
              "      <td>15.5204</td>\n",
              "      <td>1016.16</td>\n",
              "      <td>20.438889</td>\n",
              "    </tr>\n",
              "  </tbody>\n",
              "</table>\n",
              "<p>96453 rows × 7 columns</p>\n",
              "</div>"
            ],
            "text/plain": [
              "       Temperature (C)  ...  Apparent Temperature (C)\n",
              "0             9.472222  ...                  7.388889\n",
              "1             9.355556  ...                  7.227778\n",
              "2             9.377778  ...                  9.377778\n",
              "3             8.288889  ...                  5.944444\n",
              "4             8.755556  ...                  6.977778\n",
              "...                ...  ...                       ...\n",
              "96448        26.016667  ...                 26.016667\n",
              "96449        24.583333  ...                 24.583333\n",
              "96450        22.038889  ...                 22.038889\n",
              "96451        21.522222  ...                 21.522222\n",
              "96452        20.438889  ...                 20.438889\n",
              "\n",
              "[96453 rows x 7 columns]"
            ]
          },
          "metadata": {
            "tags": []
          },
          "execution_count": 3
        }
      ]
    },
    {
      "cell_type": "code",
      "metadata": {
        "id": "_43gJPF0fS-K"
      },
      "source": [
        "def init_weights(n,k):\n",
        "  l=[]\n",
        "  for i in range(k):\n",
        "   l.append(np.random.uniform(-1,1,n))\n",
        "  return np.array(l)"
      ],
      "execution_count": 17,
      "outputs": []
    },
    {
      "cell_type": "markdown",
      "metadata": {
        "id": "fv8AmmiSbyme"
      },
      "source": [
        "Feed Forward Network\n"
      ]
    },
    {
      "cell_type": "code",
      "metadata": {
        "id": "hsVZUIxhSImn"
      },
      "source": [
        "class FeedForward:\n",
        "  def __init__(self,n_inputs,n_neurons,lr_rate=None):\n",
        "    self.w1=init_weights(n_inputs,n_neurons)\n",
        "    self.w2=init_weights(1,n_neurons)\n",
        "    self.b1=init_weights(1,n_neurons)\n",
        "    self.b2=init_weights(1,1)\n",
        "    self.lr_rate=lr_rate\n",
        "    self.h1=None\n",
        "    self.h2=None\n",
        "  \n",
        "  def sigmoid(self,X):\n",
        "     \n",
        "    return 1/(1+np.exp(-X))\n",
        "\n",
        "  def calc(self,X):\n",
        "     \n",
        "    self.h1=model.sigmoid(np.dot(self.w1,X.reshape(-1,1))+self.b1)\n",
        "    self.h2=np.dot(self.w2.T,self.h1)+self.b2\n",
        "     \n",
        "    return self.h2"
      ],
      "execution_count": 23,
      "outputs": []
    },
    {
      "cell_type": "code",
      "metadata": {
        "id": "wJJ7pgWifajQ"
      },
      "source": [
        "ff=FeedForward(6,13) "
      ],
      "execution_count": 18,
      "outputs": []
    },
    {
      "cell_type": "code",
      "metadata": {
        "id": "Iq1cNyh8iP5x"
      },
      "source": [
        ""
      ],
      "execution_count": null,
      "outputs": []
    }
  ]
}