{
  "nbformat": 4,
  "nbformat_minor": 0,
  "metadata": {
    "colab": {
      "name": "Sample_training.ipynb",
      "provenance": [],
      "collapsed_sections": [],
      "mount_file_id": "1t1PXqOPB3_0fbDjV3pECqObpWLMIEgSv",
      "authorship_tag": "ABX9TyMNMiLmFYMj3huLECXNvhGl",
      "include_colab_link": true
    },
    "kernelspec": {
      "display_name": "Python 3",
      "name": "python3"
    }
  },
  "cells": [
    {
      "cell_type": "markdown",
      "metadata": {
        "id": "view-in-github",
        "colab_type": "text"
      },
      "source": [
        "<a href=\"https://colab.research.google.com/github/Sai-Prathik/Neural-Networks/blob/main/Sample_training.ipynb\" target=\"_parent\"><img src=\"https://colab.research.google.com/assets/colab-badge.svg\" alt=\"Open In Colab\"/></a>"
      ]
    },
    {
      "cell_type": "code",
      "metadata": {
        "id": "0iVZBD1h6VYd"
      },
      "source": [
        "import pandas as pd\r\n",
        "import numpy as np\r\n",
        "from sklearn.preprocessing import MinMaxScaler\r\n",
        "import matplotlib.pyplot as plt\r\n"
      ],
      "execution_count": 266,
      "outputs": []
    },
    {
      "cell_type": "code",
      "metadata": {
        "colab": {
          "base_uri": "https://localhost:8080/",
          "height": 424
        },
        "id": "xy9lLiBXMZeG",
        "outputId": "bb6037dd-4045-4fa5-89e7-ad1da71ea1d7"
      },
      "source": [
        "data=pd.read_csv(\"/content/drive/MyDrive/ML Pandas Assignment/Datasets/Advertising.csv\")\r\n",
        "data.drop(\"Unnamed: 0\",inplace=True,axis=1)\r\n",
        "data"
      ],
      "execution_count": 312,
      "outputs": [
        {
          "output_type": "execute_result",
          "data": {
            "text/html": [
              "<div>\n",
              "<style scoped>\n",
              "    .dataframe tbody tr th:only-of-type {\n",
              "        vertical-align: middle;\n",
              "    }\n",
              "\n",
              "    .dataframe tbody tr th {\n",
              "        vertical-align: top;\n",
              "    }\n",
              "\n",
              "    .dataframe thead th {\n",
              "        text-align: right;\n",
              "    }\n",
              "</style>\n",
              "<table border=\"1\" class=\"dataframe\">\n",
              "  <thead>\n",
              "    <tr style=\"text-align: right;\">\n",
              "      <th></th>\n",
              "      <th>TV</th>\n",
              "      <th>radio</th>\n",
              "      <th>newspaper</th>\n",
              "      <th>sales</th>\n",
              "    </tr>\n",
              "  </thead>\n",
              "  <tbody>\n",
              "    <tr>\n",
              "      <th>0</th>\n",
              "      <td>230.1</td>\n",
              "      <td>37.8</td>\n",
              "      <td>69.2</td>\n",
              "      <td>22.1</td>\n",
              "    </tr>\n",
              "    <tr>\n",
              "      <th>1</th>\n",
              "      <td>44.5</td>\n",
              "      <td>39.3</td>\n",
              "      <td>45.1</td>\n",
              "      <td>10.4</td>\n",
              "    </tr>\n",
              "    <tr>\n",
              "      <th>2</th>\n",
              "      <td>17.2</td>\n",
              "      <td>45.9</td>\n",
              "      <td>69.3</td>\n",
              "      <td>9.3</td>\n",
              "    </tr>\n",
              "    <tr>\n",
              "      <th>3</th>\n",
              "      <td>151.5</td>\n",
              "      <td>41.3</td>\n",
              "      <td>58.5</td>\n",
              "      <td>18.5</td>\n",
              "    </tr>\n",
              "    <tr>\n",
              "      <th>4</th>\n",
              "      <td>180.8</td>\n",
              "      <td>10.8</td>\n",
              "      <td>58.4</td>\n",
              "      <td>12.9</td>\n",
              "    </tr>\n",
              "    <tr>\n",
              "      <th>...</th>\n",
              "      <td>...</td>\n",
              "      <td>...</td>\n",
              "      <td>...</td>\n",
              "      <td>...</td>\n",
              "    </tr>\n",
              "    <tr>\n",
              "      <th>195</th>\n",
              "      <td>38.2</td>\n",
              "      <td>3.7</td>\n",
              "      <td>13.8</td>\n",
              "      <td>7.6</td>\n",
              "    </tr>\n",
              "    <tr>\n",
              "      <th>196</th>\n",
              "      <td>94.2</td>\n",
              "      <td>4.9</td>\n",
              "      <td>8.1</td>\n",
              "      <td>9.7</td>\n",
              "    </tr>\n",
              "    <tr>\n",
              "      <th>197</th>\n",
              "      <td>177.0</td>\n",
              "      <td>9.3</td>\n",
              "      <td>6.4</td>\n",
              "      <td>12.8</td>\n",
              "    </tr>\n",
              "    <tr>\n",
              "      <th>198</th>\n",
              "      <td>283.6</td>\n",
              "      <td>42.0</td>\n",
              "      <td>66.2</td>\n",
              "      <td>25.5</td>\n",
              "    </tr>\n",
              "    <tr>\n",
              "      <th>199</th>\n",
              "      <td>232.1</td>\n",
              "      <td>8.6</td>\n",
              "      <td>8.7</td>\n",
              "      <td>13.4</td>\n",
              "    </tr>\n",
              "  </tbody>\n",
              "</table>\n",
              "<p>200 rows × 4 columns</p>\n",
              "</div>"
            ],
            "text/plain": [
              "        TV  radio  newspaper  sales\n",
              "0    230.1   37.8       69.2   22.1\n",
              "1     44.5   39.3       45.1   10.4\n",
              "2     17.2   45.9       69.3    9.3\n",
              "3    151.5   41.3       58.5   18.5\n",
              "4    180.8   10.8       58.4   12.9\n",
              "..     ...    ...        ...    ...\n",
              "195   38.2    3.7       13.8    7.6\n",
              "196   94.2    4.9        8.1    9.7\n",
              "197  177.0    9.3        6.4   12.8\n",
              "198  283.6   42.0       66.2   25.5\n",
              "199  232.1    8.6        8.7   13.4\n",
              "\n",
              "[200 rows x 4 columns]"
            ]
          },
          "metadata": {
            "tags": []
          },
          "execution_count": 312
        }
      ]
    },
    {
      "cell_type": "code",
      "metadata": {
        "id": "5PvJXSaGKGUw"
      },
      "source": [
        "def minmaxscaler(data,range):\r\n",
        "  scaler=MinMaxScaler(feature_range=range)\r\n",
        "  scaler.fit(data)\r\n",
        "  return scaler.transform(data)"
      ],
      "execution_count": 313,
      "outputs": []
    },
    {
      "cell_type": "code",
      "metadata": {
        "id": "8LR2ktnRXUDd"
      },
      "source": [
        "data[[\"TV\",\"radio\",\"newspaper\"]]=minmaxscaler(data[[\"TV\",\"radio\",\"newspaper\"]],(-1,1))\r\n",
        "data[\"sales\"]=(data[\"sales\"]-data[\"sales\"].min())/(data[\"sales\"].max()-data[\"sales\"].min())"
      ],
      "execution_count": 314,
      "outputs": []
    },
    {
      "cell_type": "code",
      "metadata": {
        "colab": {
          "base_uri": "https://localhost:8080/",
          "height": 424
        },
        "id": "9yp7-G06J6D9",
        "outputId": "7fa5d7c9-0408-4b1a-d04a-2e7dfd80716a"
      },
      "source": [
        "data"
      ],
      "execution_count": 315,
      "outputs": [
        {
          "output_type": "execute_result",
          "data": {
            "text/html": [
              "<div>\n",
              "<style scoped>\n",
              "    .dataframe tbody tr th:only-of-type {\n",
              "        vertical-align: middle;\n",
              "    }\n",
              "\n",
              "    .dataframe tbody tr th {\n",
              "        vertical-align: top;\n",
              "    }\n",
              "\n",
              "    .dataframe thead th {\n",
              "        text-align: right;\n",
              "    }\n",
              "</style>\n",
              "<table border=\"1\" class=\"dataframe\">\n",
              "  <thead>\n",
              "    <tr style=\"text-align: right;\">\n",
              "      <th></th>\n",
              "      <th>TV</th>\n",
              "      <th>radio</th>\n",
              "      <th>newspaper</th>\n",
              "      <th>sales</th>\n",
              "    </tr>\n",
              "  </thead>\n",
              "  <tbody>\n",
              "    <tr>\n",
              "      <th>0</th>\n",
              "      <td>0.551573</td>\n",
              "      <td>0.524194</td>\n",
              "      <td>0.211961</td>\n",
              "      <td>0.807087</td>\n",
              "    </tr>\n",
              "    <tr>\n",
              "      <th>1</th>\n",
              "      <td>-0.703754</td>\n",
              "      <td>0.584677</td>\n",
              "      <td>-0.211961</td>\n",
              "      <td>0.346457</td>\n",
              "    </tr>\n",
              "    <tr>\n",
              "      <th>2</th>\n",
              "      <td>-0.888400</td>\n",
              "      <td>0.850806</td>\n",
              "      <td>0.213720</td>\n",
              "      <td>0.303150</td>\n",
              "    </tr>\n",
              "    <tr>\n",
              "      <th>3</th>\n",
              "      <td>0.019953</td>\n",
              "      <td>0.665323</td>\n",
              "      <td>0.023747</td>\n",
              "      <td>0.665354</td>\n",
              "    </tr>\n",
              "    <tr>\n",
              "      <th>4</th>\n",
              "      <td>0.218126</td>\n",
              "      <td>-0.564516</td>\n",
              "      <td>0.021988</td>\n",
              "      <td>0.444882</td>\n",
              "    </tr>\n",
              "    <tr>\n",
              "      <th>...</th>\n",
              "      <td>...</td>\n",
              "      <td>...</td>\n",
              "      <td>...</td>\n",
              "      <td>...</td>\n",
              "    </tr>\n",
              "    <tr>\n",
              "      <th>195</th>\n",
              "      <td>-0.746365</td>\n",
              "      <td>-0.850806</td>\n",
              "      <td>-0.762533</td>\n",
              "      <td>0.236220</td>\n",
              "    </tr>\n",
              "    <tr>\n",
              "      <th>196</th>\n",
              "      <td>-0.367602</td>\n",
              "      <td>-0.802419</td>\n",
              "      <td>-0.862797</td>\n",
              "      <td>0.318898</td>\n",
              "    </tr>\n",
              "    <tr>\n",
              "      <th>197</th>\n",
              "      <td>0.192425</td>\n",
              "      <td>-0.625000</td>\n",
              "      <td>-0.892700</td>\n",
              "      <td>0.440945</td>\n",
              "    </tr>\n",
              "    <tr>\n",
              "      <th>198</th>\n",
              "      <td>0.913426</td>\n",
              "      <td>0.693548</td>\n",
              "      <td>0.159191</td>\n",
              "      <td>0.940945</td>\n",
              "    </tr>\n",
              "    <tr>\n",
              "      <th>199</th>\n",
              "      <td>0.565100</td>\n",
              "      <td>-0.653226</td>\n",
              "      <td>-0.852243</td>\n",
              "      <td>0.464567</td>\n",
              "    </tr>\n",
              "  </tbody>\n",
              "</table>\n",
              "<p>200 rows × 4 columns</p>\n",
              "</div>"
            ],
            "text/plain": [
              "           TV     radio  newspaper     sales\n",
              "0    0.551573  0.524194   0.211961  0.807087\n",
              "1   -0.703754  0.584677  -0.211961  0.346457\n",
              "2   -0.888400  0.850806   0.213720  0.303150\n",
              "3    0.019953  0.665323   0.023747  0.665354\n",
              "4    0.218126 -0.564516   0.021988  0.444882\n",
              "..        ...       ...        ...       ...\n",
              "195 -0.746365 -0.850806  -0.762533  0.236220\n",
              "196 -0.367602 -0.802419  -0.862797  0.318898\n",
              "197  0.192425 -0.625000  -0.892700  0.440945\n",
              "198  0.913426  0.693548   0.159191  0.940945\n",
              "199  0.565100 -0.653226  -0.852243  0.464567\n",
              "\n",
              "[200 rows x 4 columns]"
            ]
          },
          "metadata": {
            "tags": []
          },
          "execution_count": 315
        }
      ]
    },
    {
      "cell_type": "code",
      "metadata": {
        "id": "kKZHc4rkYvOZ"
      },
      "source": [
        "def randomise(X, y):\r\n",
        "    if len(X) != len(y):\r\n",
        "        print(\"Input arguments are of different lengths\")\r\n",
        "    pairs = []\r\n",
        "    for _ in range(len(X)):\r\n",
        "        pairs.append((X[_], y[_]))\r\n",
        "\r\n",
        "    random.shuffle(pairs)\r\n",
        "    \r\n",
        "    rand_X = []\r\n",
        "    rand_y = []\r\n",
        "    for i,j in pairs:\r\n",
        "        rand_X.append(i)\r\n",
        "        rand_y.append(j)\r\n",
        "\r\n",
        "    return rand_X, rand_y"
      ],
      "execution_count": 318,
      "outputs": []
    },
    {
      "cell_type": "code",
      "metadata": {
        "id": "0X2CItRfNoAF"
      },
      "source": [
        "def init_weights(n,k):\r\n",
        "  l=[]\r\n",
        "  for i in range(k):\r\n",
        "   l.append(np.random.uniform(-1,1,n))\r\n",
        "  return np.array(l)\r\n",
        "  "
      ],
      "execution_count": 40,
      "outputs": []
    },
    {
      "cell_type": "code",
      "metadata": {
        "id": "gUCdf2tdImxN"
      },
      "source": [
        "def get_diagonal_vec(n,x):#diagonal vector\r\n",
        "  #print(\"get_digonal_vec\")\r\n",
        "  a=np.zeros((n,n),float) \r\n",
        "  np.fill_diagonal(a,x)\r\n",
        "  return a"
      ],
      "execution_count": 298,
      "outputs": []
    },
    {
      "cell_type": "code",
      "metadata": {
        "id": "drTXNN40ItQu"
      },
      "source": [
        "def get_multiples(model): #v(z(1-z))\r\n",
        "  #print(\"get_multiples\")\r\n",
        "  #print(model.b2)\r\n",
        "  x1=np.dot(get_diagonal_vec(3,model.h1),(1-model.h1))\r\n",
        "  y1=np.dot(get_diagonal_vec(3,model.w2),x1)\r\n",
        "  return y1"
      ],
      "execution_count": 299,
      "outputs": []
    },
    {
      "cell_type": "code",
      "metadata": {
        "id": "pVtt0ReYIwgQ"
      },
      "source": [
        "def backtrack_error(model,X,e):\r\n",
        "    #print(\"backtrack_error\")\r\n",
        "    cm=get_multiples(model)\r\n",
        "     \r\n",
        "    bias_vec=cm #biases(3X1)\r\n",
        "    l=[]\r\n",
        "    for i in cm:\r\n",
        "       l.append(i*X)\r\n",
        "       \r\n",
        "    hidden_weights=np.array(l)#hidden weights(3X3)\r\n",
        "     \r\n",
        "    output_weights=model.h1 #output weights(3X1)\r\n",
        "    \r\n",
        "    #print(hidden_weights.shape,output_weights.shape)\r\n",
        "    #print(model.h1,e)\r\n",
        "    model.w1=model.w1-(model.lr_rate*(hidden_weights*e))\r\n",
        "    model.w2=model.w2-(model.lr_rate*(output_weights*e))\r\n",
        "    model.b1=model.b1-(model.lr_rate*(bias_vec*e))\r\n",
        "    model.b2=model.b2-(model.lr_rate*e)\r\n",
        "     \r\n",
        "     "
      ],
      "execution_count": 300,
      "outputs": []
    },
    {
      "cell_type": "code",
      "metadata": {
        "id": "2SY8J6DMI5yJ"
      },
      "source": [
        "def randomize_data(data):"
      ],
      "execution_count": null,
      "outputs": []
    },
    {
      "cell_type": "code",
      "metadata": {
        "id": "oXDrzm7EHoQk"
      },
      "source": [
        "class FeedForward:\r\n",
        "  def __init__(self,n_inputs,n_neurons,lr_rate):\r\n",
        "    self.w1=init_weights(n_inputs,n_neurons)\r\n",
        "    self.w2=init_weights(1,n_neurons)\r\n",
        "    self.b1=init_weights(1,n_neurons)\r\n",
        "    self.b2=init_weights(1,1)\r\n",
        "    self.lr_rate=lr_rate\r\n",
        "    self.h1=None\r\n",
        "    self.h2=None\r\n",
        "  \r\n",
        "  def sigmoid(self,X):\r\n",
        "     \r\n",
        "    return 1/(1+np.exp(-X))\r\n",
        "\r\n",
        "  def calc(self,X):\r\n",
        "     \r\n",
        "    self.h1=model.sigmoid(np.dot(self.w1,X.reshape(-1,1))+self.b1)\r\n",
        "    self.h2=np.dot(self.w2.T,self.h1)+self.b2\r\n",
        "     \r\n",
        "    return self.h2\r\n",
        "\r\n",
        "  def fit(self,X,y):\r\n",
        "    \r\n",
        "     l=[] \r\n",
        "     for i,j in zip(X,y):   \r\n",
        "      e=self.calc(i)-j\r\n",
        "      while e[0][0]>0.001 or e[0][0]<-0.001 :\r\n",
        "        backtrack_error(self,i,e)\r\n",
        "        e=self.calc(i)-j\r\n",
        "      l.append(e)\r\n",
        "     return np.array(l).reshape(-1,1).mean()\r\n",
        "  \r\n",
        "  def train_network(self,epoch,data):\r\n",
        "    mean_error=[]\r\n",
        "    for i in range(epoch):\r\n",
        "      #data=randomize_data(data)\r\n",
        "      data_x=np.array(data[[\"TV\",\"radio\",\"newspaper\"]]) \r\n",
        "      data_y=np.array(data[\"sales\"]).reshape(-1,1)\r\n",
        "      me=self.fit(data_x,data_y)\r\n",
        "      print(\"epoch\"+str(i+1)+\" \"+str(me))\r\n",
        "      mean_error.append(me)\r\n",
        "    return np.array(mean_error)\r\n",
        "\r\n",
        "\r\n",
        "     \r\n",
        "   \r\n",
        "\r\n",
        "       \r\n",
        "       \r\n",
        "        \r\n",
        "     \r\n",
        "      "
      ],
      "execution_count": 340,
      "outputs": []
    },
    {
      "cell_type": "code",
      "metadata": {
        "colab": {
          "base_uri": "https://localhost:8080/"
        },
        "id": "MpNKIumeH5kN",
        "outputId": "ef5fa4f7-29b9-4b4e-892a-e25357ced100"
      },
      "source": [
        "np.random.seed(1)\r\n",
        "model=FeedForward(3,3,0.01)\r\n",
        "#model.fit(data_x,data_y)\r\n",
        "mean_error=model.train_network(50,data).reshape(-1,1) \r\n",
        "\r\n"
      ],
      "execution_count": 343,
      "outputs": [
        {
          "output_type": "stream",
          "text": [
            "epoch1 3.963809269521952e-05\n",
            "epoch2 -4.168981198345849e-05\n",
            "epoch3 -4.282566504098327e-05\n",
            "epoch4 -5.179180557701411e-05\n",
            "epoch5 -4.9784234172131e-05\n",
            "epoch6 -5.146115058498067e-05\n",
            "epoch7 -4.906547517070696e-05\n",
            "epoch8 -2.745608262567388e-05\n",
            "epoch9 -2.8118128477516922e-05\n",
            "epoch10 -6.231219823892228e-06\n",
            "epoch11 7.547324158295246e-06\n",
            "epoch12 -8.3729326118364e-06\n",
            "epoch13 3.5083058757435363e-06\n",
            "epoch14 -1.4622885556455495e-06\n",
            "epoch15 -3.441842382439352e-05\n",
            "epoch16 -3.027679099472623e-05\n",
            "epoch17 -3.129786307285824e-05\n",
            "epoch18 -2.01398874237773e-05\n",
            "epoch19 -1.498203094693111e-05\n",
            "epoch20 -2.204059882989211e-05\n",
            "epoch21 -6.927758757483346e-06\n",
            "epoch22 -5.323030448919838e-06\n",
            "epoch23 -1.0416903335265168e-05\n",
            "epoch24 -4.736900074580538e-06\n",
            "epoch25 -6.993277964711317e-06\n",
            "epoch26 -3.7710630472886223e-06\n",
            "epoch27 1.0890255700440956e-05\n",
            "epoch28 -4.4704520370690557e-07\n",
            "epoch29 -4.033492461001306e-06\n",
            "epoch30 -3.24463015182401e-06\n",
            "epoch31 -7.077051595887826e-06\n",
            "epoch32 -1.1166407134440212e-05\n",
            "epoch33 7.530739643663714e-07\n",
            "epoch34 7.295997540881019e-06\n",
            "epoch35 8.1868528343821e-06\n",
            "epoch36 5.452640458074101e-06\n",
            "epoch37 6.946994001506071e-06\n",
            "epoch38 -5.482228842600342e-06\n",
            "epoch39 -1.2943091621104227e-05\n",
            "epoch40 -1.2581989110388367e-05\n",
            "epoch41 -5.809316795551342e-06\n",
            "epoch42 -1.225284914902411e-06\n",
            "epoch43 -4.585935134143043e-07\n",
            "epoch44 7.552517449044976e-07\n",
            "epoch45 2.227779132947874e-06\n",
            "epoch46 1.9991550397495188e-05\n",
            "epoch47 2.964627181891562e-05\n",
            "epoch48 4.1942198839823376e-05\n",
            "epoch49 4.5044990416661727e-05\n",
            "epoch50 4.3005742635399206e-05\n"
          ],
          "name": "stdout"
        }
      ]
    },
    {
      "cell_type": "code",
      "metadata": {
        "colab": {
          "base_uri": "https://localhost:8080/",
          "height": 294
        },
        "id": "SQsrU-H4Pjsm",
        "outputId": "e7276036-412f-4cab-ca13-1dcdcc1ff01e"
      },
      "source": [
        "x=np.arange(0,mean_error.size)\r\n",
        "plt.plot(x,mean_error,color=\"blue\")"
      ],
      "execution_count": 344,
      "outputs": [
        {
          "output_type": "execute_result",
          "data": {
            "text/plain": [
              "[<matplotlib.lines.Line2D at 0x7f375c03ff90>]"
            ]
          },
          "metadata": {
            "tags": []
          },
          "execution_count": 344
        },
        {
          "output_type": "display_data",
          "data": {
            "image/png": "[encoded data removed]",
            "text/plain": [
              "<Figure size 432x288 with 1 Axes>"
            ]
          },
          "metadata": {
            "tags": [],
            "needs_background": "light"
          }
        }
      ]
    },
    {
      "cell_type": "markdown",
      "metadata": {
        "id": "uf5gD-I-H6FS"
      },
      "source": [
        "Error Reduction of a single data point\r\n"
      ]
    },
    {
      "cell_type": "code",
      "metadata": {
        "id": "AYlblUNYUFah",
        "colab": {
          "base_uri": "https://localhost:8080/",
          "height": 283
        },
        "outputId": "8895417b-7e15-4018-bf7e-4674decfce4f"
      },
      "source": [
        "np.random.seed(1)\r\n",
        "\r\n",
        "model=FeedForward(3,3,0.1)\r\n",
        "#model.fit(data_x,data_y)\r\n",
        "y=model.fit(data_x[2],data_y[2]).reshape(-1,1) \r\n",
        "x=np.arange(0,y.size)\r\n",
        "plt.plot(x,y,color='blue')"
      ],
      "execution_count": 290,
      "outputs": [
        {
          "output_type": "execute_result",
          "data": {
            "text/plain": [
              "[<matplotlib.lines.Line2D at 0x7f375b8b2f90>]"
            ]
          },
          "metadata": {
            "tags": []
          },
          "execution_count": 290
        },
        {
          "output_type": "display_data",
          "data": {
            "image/png": "[encoded data removed]",
            "text/plain": [
              "<Figure size 432x288 with 1 Axes>"
            ]
          },
          "metadata": {
            "tags": [],
            "needs_background": "light"
          }
        }
      ]
    },
    {
      "cell_type": "code",
      "metadata": {
        "id": "a-HbNxI2UyTg"
      },
      "source": [
        "def backtrack_error(model,X,e):\r\n",
        "    #print(\"backtrack_error\")\r\n",
        "    cm=get_multiples(model)\r\n",
        "     \r\n",
        "    bias_vec=cm #biases(3X1)\r\n",
        "     \r\n",
        "    l=[]\r\n",
        "    for i in cm:\r\n",
        "      #print(i*X)\r\n",
        "       \r\n",
        "      l.append(i*X)\r\n",
        "       \r\n",
        "     \r\n",
        "     \r\n",
        "     \r\n",
        "    hidden_weights=np.array(l)#hidden weights(3X3)\r\n",
        "     \r\n",
        "    output_weights=model.h1 #output weights(3X1)\r\n",
        "    \r\n",
        "    #print(hidden_weights.shape,output_weights.shape)\r\n",
        "    #print(model.h1,e)\r\n",
        "    model.w1=model.w1-(model.lr_rate*(hidden_weights*e))\r\n",
        "    model.w2=model.w2-(model.lr_rate*(output_weights*e))\r\n",
        "    model.b1=model.b1-(model.lr_rate*(bias_vec*e))\r\n",
        "    model.b2=model.b2-(model.lr_rate*e)\r\n",
        "     \r\n",
        "     "
      ],
      "execution_count": 252,
      "outputs": []
    }
  ]
}